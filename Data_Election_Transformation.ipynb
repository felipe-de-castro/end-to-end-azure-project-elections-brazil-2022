{
 "cells": [
  {
   "cell_type": "code",
   "execution_count": 0,
   "metadata": {
    "application/vnd.databricks.v1+cell": {
     "cellMetadata": {
      "byteLimit": 2048000,
      "rowLimit": 10000
     },
     "inputWidgets": {},
     "nuid": "ef379b54-80cc-42bd-8bf5-6ad12a851eea",
     "showTitle": false,
     "title": ""
    }
   },
   "outputs": [
    {
     "output_type": "stream",
     "name": "stdout",
     "output_type": "stream",
     "text": [
      "Out[93]: '[REDACTED]'"
     ]
    }
   ],
   "source": [
    "#Getting Secret Scope created \n",
    "dbutils.secrets.get(scope = \"data-election-key\", key = \"data-election-app-secret\" )"
   ]
  },
  {
   "cell_type": "code",
   "execution_count": 0,
   "metadata": {
    "application/vnd.databricks.v1+cell": {
     "cellMetadata": {
      "byteLimit": 2048000,
      "rowLimit": 10000
     },
     "inputWidgets": {},
     "nuid": "fc7ec710-5ccb-4bc4-a7b8-a8d647729ea4",
     "showTitle": false,
     "title": ""
    }
   },
   "outputs": [
    {
     "output_type": "stream",
     "name": "stdout",
     "output_type": "stream",
     "text": [
      "Out[8]: True"
     ]
    }
   ],
   "source": [
    "configs = {\"fs.azure.account.auth.type\": \"OAuth\",\n",
    "          \"fs.azure.account.oauth.provider.type\": \"org.apache.hadoop.fs.azurebfs.oauth2.ClientCredsTokenProvider\",\n",
    "          \"fs.azure.account.oauth2.client.id\": \"##########################\", #provide your Client ID\n",
    "          \"fs.azure.account.oauth2.client.secret\": dbutils.secrets.get(scope = \"data-election-key\", key = \"data-election-app-secret\" ),\n",
    "          \"fs.azure.account.oauth2.client.endpoint\": \"https://login.microsoftonline.com/################################/oauth2/token\"} #provide your Tenant ID\n",
    "\n",
    "# Optionally, you can add <directory-name> to the source URI of your mount point.\n",
    "# container@storage\n",
    "# storage> add role > app-reg. \n",
    "dbutils.fs.mount(\n",
    "  source = \"abfss://data-election-brazil-container@dataelectionstorage.dfs.core.windows.net\",\n",
    "  mount_point = \"/mnt/data-election\",\n",
    "  extra_configs = configs)"
   ]
  },
  {
   "cell_type": "code",
   "execution_count": 0,
   "metadata": {
    "application/vnd.databricks.v1+cell": {
     "cellMetadata": {
      "byteLimit": 2048000,
      "rowLimit": 10000
     },
     "inputWidgets": {},
     "nuid": "62f2d395-8c7b-40a6-9e0d-5ab5aa304c86",
     "showTitle": false,
     "title": ""
    }
   },
   "outputs": [
    {
     "output_type": "display_data",
     "data": {
      "text/html": [
       "<style scoped>\n",
       "  .table-result-container {\n",
       "    max-height: 300px;\n",
       "    overflow: auto;\n",
       "  }\n",
       "  table, th, td {\n",
       "    border: 1px solid black;\n",
       "    border-collapse: collapse;\n",
       "  }\n",
       "  th, td {\n",
       "    padding: 5px;\n",
       "  }\n",
       "  th {\n",
       "    text-align: left;\n",
       "  }\n",
       "</style><div class='table-result-container'><table class='table-result'><thead style='background-color: white'><tr><th>path</th><th>name</th><th>size</th><th>modificationTime</th></tr></thead><tbody><tr><td>dbfs:/mnt/data-election/raw-data/879640fa-29fa-4155-82b7-ec38b63b8377/consulta_cand_2022_BRASIL.csv</td><td>consulta_cand_2022_BRASIL.csv</td><td>22784583</td><td>1707327409000</td></tr></tbody></table></div>"
      ]
     },
     "metadata": {
      "application/vnd.databricks.v1+output": {
       "addedWidgets": {},
       "aggData": [],
       "aggError": "",
       "aggOverflow": false,
       "aggSchema": [],
       "aggSeriesLimitReached": false,
       "aggType": "",
       "arguments": {},
       "columnCustomDisplayInfos": {},
       "data": [
        [
         "dbfs:/mnt/data-election/raw-data/879640fa-29fa-4155-82b7-ec38b63b8377/consulta_cand_2022_BRASIL.csv",
         "consulta_cand_2022_BRASIL.csv",
         22784583,
         1707327409000
        ]
       ],
       "datasetInfos": [],
       "dbfsResultPath": null,
       "isJsonSchema": true,
       "metadata": {
        "isDbfsCommandResult": false
       },
       "overflow": false,
       "plotOptions": {
        "customPlotOptions": {},
        "displayType": "table",
        "pivotAggregation": null,
        "pivotColumns": null,
        "xColumns": null,
        "yColumns": null
       },
       "removedWidgets": [],
       "schema": [
        {
         "metadata": "{}",
         "name": "path",
         "type": "\"string\""
        },
        {
         "metadata": "{}",
         "name": "name",
         "type": "\"string\""
        },
        {
         "metadata": "{}",
         "name": "size",
         "type": "\"long\""
        },
        {
         "metadata": "{}",
         "name": "modificationTime",
         "type": "\"long\""
        }
       ],
       "type": "table"
      }
     },
     "output_type": "display_data"
    }
   ],
   "source": [
    "%fs ls /mnt/data-election/raw-data/879640fa-29fa-4155-82b7-ec38b63b8377/\n"
   ]
  },
  {
   "cell_type": "code",
   "execution_count": 0,
   "metadata": {
    "application/vnd.databricks.v1+cell": {
     "cellMetadata": {
      "byteLimit": 2048000,
      "rowLimit": 10000
     },
     "inputWidgets": {},
     "nuid": "cf0fa96d-3a24-4778-8885-23ab49ce4a45",
     "showTitle": false,
     "title": ""
    }
   },
   "outputs": [],
   "source": [
    "# import libs\n",
    "import os\n",
    "from pyspark.sql.functions import to_date\n",
    "from pyspark.sql.functions import col\n",
    "from pyspark.sql.functions import to_timestamp\n"
   ]
  },
  {
   "cell_type": "code",
   "execution_count": 0,
   "metadata": {
    "application/vnd.databricks.v1+cell": {
     "cellMetadata": {
      "byteLimit": 2048000,
      "rowLimit": 10000
     },
     "inputWidgets": {},
     "nuid": "38764b98-0782-4da9-a8a4-f7b2a1ba9391",
     "showTitle": false,
     "title": ""
    }
   },
   "outputs": [
    {
     "output_type": "stream",
     "name": "stdout",
     "output_type": "stream",
     "text": [
      "Out[3]: ['/dbfs/mnt/data-election/raw-data/879640fa-29fa-4155-82b7-ec38b63b8377/consulta_cand_2022_AC.csv',\n '/dbfs/mnt/data-election/raw-data/879640fa-29fa-4155-82b7-ec38b63b8377/consulta_cand_2022_AL.csv',\n '/dbfs/mnt/data-election/raw-data/879640fa-29fa-4155-82b7-ec38b63b8377/consulta_cand_2022_AM.csv',\n '/dbfs/mnt/data-election/raw-data/879640fa-29fa-4155-82b7-ec38b63b8377/consulta_cand_2022_AP.csv',\n '/dbfs/mnt/data-election/raw-data/879640fa-29fa-4155-82b7-ec38b63b8377/consulta_cand_2022_BA.csv',\n '/dbfs/mnt/data-election/raw-data/879640fa-29fa-4155-82b7-ec38b63b8377/consulta_cand_2022_BR.csv',\n '/dbfs/mnt/data-election/raw-data/879640fa-29fa-4155-82b7-ec38b63b8377/consulta_cand_2022_CE.csv',\n '/dbfs/mnt/data-election/raw-data/879640fa-29fa-4155-82b7-ec38b63b8377/consulta_cand_2022_DF.csv',\n '/dbfs/mnt/data-election/raw-data/879640fa-29fa-4155-82b7-ec38b63b8377/consulta_cand_2022_ES.csv',\n '/dbfs/mnt/data-election/raw-data/879640fa-29fa-4155-82b7-ec38b63b8377/consulta_cand_2022_GO.csv',\n '/dbfs/mnt/data-election/raw-data/879640fa-29fa-4155-82b7-ec38b63b8377/consulta_cand_2022_MA.csv',\n '/dbfs/mnt/data-election/raw-data/879640fa-29fa-4155-82b7-ec38b63b8377/consulta_cand_2022_MG.csv',\n '/dbfs/mnt/data-election/raw-data/879640fa-29fa-4155-82b7-ec38b63b8377/consulta_cand_2022_MS.csv',\n '/dbfs/mnt/data-election/raw-data/879640fa-29fa-4155-82b7-ec38b63b8377/consulta_cand_2022_MT.csv',\n '/dbfs/mnt/data-election/raw-data/879640fa-29fa-4155-82b7-ec38b63b8377/consulta_cand_2022_PA.csv',\n '/dbfs/mnt/data-election/raw-data/879640fa-29fa-4155-82b7-ec38b63b8377/consulta_cand_2022_PB.csv',\n '/dbfs/mnt/data-election/raw-data/879640fa-29fa-4155-82b7-ec38b63b8377/consulta_cand_2022_PE.csv',\n '/dbfs/mnt/data-election/raw-data/879640fa-29fa-4155-82b7-ec38b63b8377/consulta_cand_2022_PI.csv',\n '/dbfs/mnt/data-election/raw-data/879640fa-29fa-4155-82b7-ec38b63b8377/consulta_cand_2022_PR.csv',\n '/dbfs/mnt/data-election/raw-data/879640fa-29fa-4155-82b7-ec38b63b8377/consulta_cand_2022_RJ.csv',\n '/dbfs/mnt/data-election/raw-data/879640fa-29fa-4155-82b7-ec38b63b8377/consulta_cand_2022_RN.csv',\n '/dbfs/mnt/data-election/raw-data/879640fa-29fa-4155-82b7-ec38b63b8377/consulta_cand_2022_RO.csv',\n '/dbfs/mnt/data-election/raw-data/879640fa-29fa-4155-82b7-ec38b63b8377/consulta_cand_2022_RR.csv',\n '/dbfs/mnt/data-election/raw-data/879640fa-29fa-4155-82b7-ec38b63b8377/consulta_cand_2022_RS.csv',\n '/dbfs/mnt/data-election/raw-data/879640fa-29fa-4155-82b7-ec38b63b8377/consulta_cand_2022_SC.csv',\n '/dbfs/mnt/data-election/raw-data/879640fa-29fa-4155-82b7-ec38b63b8377/consulta_cand_2022_SE.csv',\n '/dbfs/mnt/data-election/raw-data/879640fa-29fa-4155-82b7-ec38b63b8377/consulta_cand_2022_SP.csv',\n '/dbfs/mnt/data-election/raw-data/879640fa-29fa-4155-82b7-ec38b63b8377/consulta_cand_2022_TO.csv',\n '/dbfs/mnt/data-election/raw-data/879640fa-29fa-4155-82b7-ec38b63b8377/leiame.pdf']"
     ]
    }
   ],
   "source": [
    "#Getting files path to delete except the endswith \"BRASIL.csv\" (national for president)\n",
    "\n",
    "directory = \"/dbfs/mnt/data-election/raw-data/879640fa-29fa-4155-82b7-ec38b63b8377\"\n",
    "[os.path.join(directory, filename) for filename in os.listdir(directory) if not filename.endswith(\"BRASIL.csv\")]\n"
   ]
  },
  {
   "cell_type": "code",
   "execution_count": 0,
   "metadata": {
    "application/vnd.databricks.v1+cell": {
     "cellMetadata": {
      "byteLimit": 2048000,
      "rowLimit": 10000
     },
     "inputWidgets": {},
     "nuid": "6d517c93-2c0c-4fd4-8479-89a80da9b4b4",
     "showTitle": false,
     "title": ""
    }
   },
   "outputs": [],
   "source": [
    "#Deleting files except \"BRASIL.csv\"\n",
    "\n",
    "# List names of files in the directory\n",
    "files = os.listdir('/dbfs/mnt/data-election/raw-data/879640fa-29fa-4155-82b7-ec38b63b8377')\n",
    "\n",
    "# For loop to remove files except Brasil.csv\n",
    "for file in files:\n",
    "    if not file.endswith(\"BRASIL.csv\"):\n",
    "        file_path = os.path.join('/dbfs/mnt/data-election/raw-data/879640fa-29fa-4155-82b7-ec38b63b8377', file)\n",
    "        #print(file_path) #print to check if getting the right files except \"BRASIL.csv\"\n",
    "        os.remove(file_path)"
   ]
  },
  {
   "cell_type": "code",
   "execution_count": 0,
   "metadata": {
    "application/vnd.databricks.v1+cell": {
     "cellMetadata": {
      "byteLimit": 2048000,
      "rowLimit": 10000
     },
     "inputWidgets": {},
     "nuid": "2ff68386-7e1a-4690-b0a8-cb304f52f909",
     "showTitle": false,
     "title": ""
    }
   },
   "outputs": [
    {
     "output_type": "stream",
     "name": "stdout",
     "output_type": "stream",
     "text": [
      "['consulta_cand_2022_BRASIL.csv']\n"
     ]
    }
   ],
   "source": [
    "#Check if the file \"BRASIL.csv\" is there. OK.\n",
    "files = os.listdir('/dbfs/mnt/data-election/raw-data/879640fa-29fa-4155-82b7-ec38b63b8377')\n",
    "print(files)"
   ]
  },
  {
   "cell_type": "code",
   "execution_count": 0,
   "metadata": {
    "application/vnd.databricks.v1+cell": {
     "cellMetadata": {
      "byteLimit": 2048000,
      "rowLimit": 10000
     },
     "inputWidgets": {},
     "nuid": "a29b8b86-e39b-4731-bb0d-079c2fe95d1d",
     "showTitle": false,
     "title": ""
    }
   },
   "outputs": [
    {
     "output_type": "display_data",
     "data": {
      "text/html": [
       "<style scoped>\n",
       "  .table-result-container {\n",
       "    max-height: 300px;\n",
       "    overflow: auto;\n",
       "  }\n",
       "  table, th, td {\n",
       "    border: 1px solid black;\n",
       "    border-collapse: collapse;\n",
       "  }\n",
       "  th, td {\n",
       "    padding: 5px;\n",
       "  }\n",
       "  th {\n",
       "    text-align: left;\n",
       "  }\n",
       "</style><div class='table-result-container'><table class='table-result'><thead style='background-color: white'><tr><th>DT_GERACAO</th><th>HH_GERACAO</th><th>ANO_ELEICAO</th><th>CD_TIPO_ELEICAO</th><th>NM_TIPO_ELEICAO</th><th>NR_TURNO</th><th>CD_ELEICAO</th><th>DS_ELEICAO</th><th>DT_ELEICAO</th><th>TP_ABRANGENCIA</th><th>SG_UF</th><th>SG_UE</th><th>NM_UE</th><th>CD_CARGO</th><th>DS_CARGO</th><th>SQ_CANDIDATO</th><th>NR_CANDIDATO</th><th>NM_CANDIDATO</th><th>NM_URNA_CANDIDATO</th><th>NM_SOCIAL_CANDIDATO</th><th>NR_CPF_CANDIDATO</th><th>NM_EMAIL</th><th>CD_SITUACAO_CANDIDATURA</th><th>DS_SITUACAO_CANDIDATURA</th><th>CD_DETALHE_SITUACAO_CAND</th><th>DS_DETALHE_SITUACAO_CAND</th><th>TP_AGREMIACAO</th><th>NR_PARTIDO</th><th>SG_PARTIDO</th><th>NM_PARTIDO</th><th>NR_FEDERACAO</th><th>NM_FEDERACAO</th><th>SG_FEDERACAO</th><th>DS_COMPOSICAO_FEDERACAO</th><th>SQ_COLIGACAO</th><th>NM_COLIGACAO</th><th>DS_COMPOSICAO_COLIGACAO</th><th>CD_NACIONALIDADE</th><th>DS_NACIONALIDADE</th><th>SG_UF_NASCIMENTO</th><th>CD_MUNICIPIO_NASCIMENTO</th><th>NM_MUNICIPIO_NASCIMENTO</th><th>DT_NASCIMENTO</th><th>NR_IDADE_DATA_POSSE</th><th>NR_TITULO_ELEITORAL_CANDIDATO</th><th>CD_GENERO</th><th>DS_GENERO</th><th>CD_GRAU_INSTRUCAO</th><th>DS_GRAU_INSTRUCAO</th><th>CD_ESTADO_CIVIL</th><th>DS_ESTADO_CIVIL</th><th>CD_COR_RACA</th><th>DS_COR_RACA</th><th>CD_OCUPACAO</th><th>DS_OCUPACAO</th><th>VR_DESPESA_MAX_CAMPANHA</th><th>CD_SIT_TOT_TURNO</th><th>DS_SIT_TOT_TURNO</th><th>ST_REELEICAO</th><th>ST_DECLARAR_BENS</th><th>NR_PROTOCOLO_CANDIDATURA</th><th>NR_PROCESSO</th><th>CD_SITUACAO_CANDIDATO_PLEITO</th><th>DS_SITUACAO_CANDIDATO_PLEITO</th><th>CD_SITUACAO_CANDIDATO_URNA</th><th>DS_SITUACAO_CANDIDATO_URNA</th><th>ST_CANDIDATO_INSERIDO_URNA</th><th>NM_TIPO_DESTINACAO_VOTOS</th><th>CD_SITUACAO_CANDIDATO_TOT</th><th>DS_SITUACAO_CANDIDATO_TOT</th><th>ST_PREST_CONTAS</th><th>ST_SUBSTITUIDO</th><th>SQ_SUBSTITUIDO</th><th>SQ_ORDEM_SUPLENCIA</th><th>DT_ACEITE_CANDIDATURA</th></tr></thead><tbody><tr><td>06/02/2024</td><td>18:38:19</td><td>2022</td><td>2</td><td>ELEIÇÃO ORDINÁRIA</td><td>1</td><td>546</td><td>Eleições Gerais Estaduais 2022</td><td>02/10/2022</td><td>ESTADUAL</td><td>TO</td><td>TO</td><td>TOCANTINS</td><td>7</td><td>DEPUTADO ESTADUAL</td><td>270001697206</td><td>12121</td><td>FERNANDO DOURADO DA SILVA</td><td>FERNANDO DOURADO</td><td>#NULO#</td><td>02108422102</td><td>NÃO DIVULGÁVEL</td><td>12</td><td>APTO</td><td>2</td><td>DEFERIDO</td><td>PARTIDO ISOLADO</td><td>12</td><td>PDT</td><td>PARTIDO DEMOCRÁTICO TRABALHISTA</td><td>-1</td><td>#NULO#</td><td>#NULO#</td><td>#NULO#</td><td>270001684650</td><td>PARTIDO ISOLADO</td><td>PDT</td><td>1</td><td>BRASILEIRA NATA</td><td>MA</td><td>-3</td><td>IMPERATRIZ</td><td>21/03/1988</td><td>34</td><td>037379252798</td><td>2</td><td>MASCULINO</td><td>6</td><td>ENSINO MÉDIO COMPLETO</td><td>1</td><td>SOLTEIRO(A)</td><td>03</td><td>PARDA</td><td>257</td><td>EMPRESÁRIO</td><td>1270629.01</td><td>5</td><td>SUPLENTE</td><td>N</td><td>S</td><td>-1</td><td>06007433320226270000</td><td>2</td><td>DEFERIDO</td><td>2</td><td>DEFERIDO</td><td>SIM</td><td>Válido</td><td>2</td><td>Deferido</td><td>S</td><td>N</td><td>-1</td><td>15</td><td>14/08/2022 15:43:16</td></tr><tr><td>06/02/2024</td><td>18:38:19</td><td>2022</td><td>2</td><td>ELEIÇÃO ORDINÁRIA</td><td>1</td><td>546</td><td>Eleições Gerais Estaduais 2022</td><td>02/10/2022</td><td>ESTADUAL</td><td>DF</td><td>DF</td><td>DISTRITO FEDERAL</td><td>9</td><td>1º SUPLENTE</td><td>70001651531</td><td>456</td><td>MARIA DE LOURDES WERNECK</td><td>LOURDINHA WERNECK</td><td>#NULO#</td><td>01068199687</td><td>NÃO DIVULGÁVEL</td><td>3</td><td>INAPTO</td><td>6</td><td>RENÚNCIA</td><td>FEDERAÇÃO</td><td>45</td><td>PSDB</td><td>PARTIDO DA SOCIAL DEMOCRACIA BRASILEIRA</td><td>1</td><td>Federação PSDB Cidadania</td><td>PSDB/CIDADANIA</td><td>PSDB/CIDADANIA</td><td>70001683352</td><td>FEDERAÇÃO</td><td>PSDB/CIDADANIA</td><td>1</td><td>BRASILEIRA NATA</td><td>MG</td><td>-3</td><td>DIVINÓPOLIS</td><td>31/12/1941</td><td>81</td><td>000309382097</td><td>4</td><td>FEMININO</td><td>8</td><td>SUPERIOR COMPLETO</td><td>1</td><td>SOLTEIRO(A)</td><td>01</td><td>BRANCA</td><td>257</td><td>EMPRESÁRIO</td><td>-1</td><td>-1</td><td>#NULO#</td><td>N</td><td>S</td><td>-1</td><td>06011032320226070000</td><td>-1</td><td>#NULO#</td><td>-1</td><td>#NULO#</td><td>NÃO</td><td>#NULO#</td><td>-1</td><td>#NULO#</td><td>N</td><td>S</td><td>-1</td><td>-1</td><td>12/08/2022 17:07:39</td></tr><tr><td>06/02/2024</td><td>18:38:19</td><td>2022</td><td>2</td><td>ELEIÇÃO ORDINÁRIA</td><td>1</td><td>546</td><td>Eleições Gerais Estaduais 2022</td><td>02/10/2022</td><td>ESTADUAL</td><td>RO</td><td>RO</td><td>RONDÔNIA</td><td>7</td><td>DEPUTADO ESTADUAL</td><td>220001609406</td><td>11755</td><td>ANA CRISTINA MONTEIRO ROCHA BARROS</td><td>ANA BARROS</td><td>#NULO#</td><td>84894458268</td><td>NÃO DIVULGÁVEL</td><td>12</td><td>APTO</td><td>2</td><td>DEFERIDO</td><td>PARTIDO ISOLADO</td><td>11</td><td>PP</td><td>PROGRESSISTAS</td><td>-1</td><td>#NULO#</td><td>#NULO#</td><td>#NULO#</td><td>220001681436</td><td>PARTIDO ISOLADO</td><td>PP</td><td>1</td><td>BRASILEIRA NATA</td><td>RO</td><td>-3</td><td>PORTO VELHO</td><td>09/05/1983</td><td>39</td><td>013130132372</td><td>4</td><td>FEMININO</td><td>3</td><td>ENSINO FUNDAMENTAL INCOMPLETO</td><td>3</td><td>CASADO(A)</td><td>01</td><td>BRANCA</td><td>999</td><td>OUTROS</td><td>1270629.01</td><td>5</td><td>SUPLENTE</td><td>N</td><td>S</td><td>-1</td><td>06004795420226220000</td><td>2</td><td>DEFERIDO</td><td>2</td><td>DEFERIDO</td><td>SIM</td><td>Válido</td><td>2</td><td>Deferido</td><td>S</td><td>N</td><td>-1</td><td>20</td><td>08/08/2022 11:47:03</td></tr><tr><td>06/02/2024</td><td>18:38:19</td><td>2022</td><td>2</td><td>ELEIÇÃO ORDINÁRIA</td><td>1</td><td>546</td><td>Eleições Gerais Estaduais 2022</td><td>02/10/2022</td><td>ESTADUAL</td><td>SP</td><td>SP</td><td>SÃO PAULO</td><td>6</td><td>DEPUTADO FEDERAL</td><td>250001620739</td><td>5142</td><td>FERNANDO CHIARELLI</td><td>FERNANDO CHIARELLI</td><td>#NULO#</td><td>86385445887</td><td>NÃO DIVULGÁVEL</td><td>12</td><td>APTO</td><td>2</td><td>DEFERIDO</td><td>PARTIDO ISOLADO</td><td>51</td><td>PATRIOTA</td><td>PATRIOTA</td><td>-1</td><td>#NULO#</td><td>#NULO#</td><td>#NULO#</td><td>250001682231</td><td>PARTIDO ISOLADO</td><td>PATRIOTA</td><td>1</td><td>BRASILEIRA NATA</td><td>SP</td><td>-3</td><td>RIBEIRÃO PRETO</td><td>21/01/1957</td><td>66</td><td>172560920167</td><td>2</td><td>MASCULINO</td><td>2</td><td>LÊ E ESCREVE</td><td>3</td><td>CASADO(A)</td><td>01</td><td>BRANCA</td><td>999</td><td>OUTROS</td><td>3176572.53</td><td>4</td><td>NÃO ELEITO</td><td>N</td><td>N</td><td>-1</td><td>06024990720226260000</td><td>2</td><td>DEFERIDO</td><td>2</td><td>DEFERIDO</td><td>SIM</td><td>Válido</td><td>2</td><td>Deferido</td><td>S</td><td>N</td><td>-1</td><td>-1</td><td>10/08/2022 15:54:40</td></tr><tr><td>06/02/2024</td><td>18:38:19</td><td>2022</td><td>2</td><td>ELEIÇÃO ORDINÁRIA</td><td>1</td><td>546</td><td>Eleições Gerais Estaduais 2022</td><td>02/10/2022</td><td>ESTADUAL</td><td>PB</td><td>PB</td><td>PARAÍBA</td><td>3</td><td>GOVERNADOR</td><td>150001718119</td><td>22</td><td>NILVAN FERREIRA DO NASCIMENTO</td><td>NILVAN FERREIRA</td><td>#NULO#</td><td>91832608468</td><td>NÃO DIVULGÁVEL</td><td>12</td><td>APTO</td><td>2</td><td>DEFERIDO</td><td>PARTIDO ISOLADO</td><td>22</td><td>PL</td><td>PARTIDO LIBERAL</td><td>-1</td><td>#NULO#</td><td>#NULO#</td><td>#NULO#</td><td>150001685255</td><td>PARTIDO ISOLADO</td><td>PL</td><td>1</td><td>BRASILEIRA NATA</td><td>PB</td><td>-3</td><td>CAJAZEIRAS</td><td>10/05/1973</td><td>49</td><td>017279721201</td><td>2</td><td>MASCULINO</td><td>7</td><td>SUPERIOR INCOMPLETO</td><td>3</td><td>CASADO(A)</td><td>02</td><td>PRETA</td><td>166</td><td>LOCUTOR E COMENTARISTA DE RÁDIO E TELEVISÃO E RADIALISTA</td><td>7115522.46</td><td>4</td><td>NÃO ELEITO</td><td>N</td><td>S</td><td>-1</td><td>06008622720226150000</td><td>2</td><td>DEFERIDO</td><td>2</td><td>DEFERIDO</td><td>SIM</td><td>Válido</td><td>2</td><td>Deferido</td><td>S</td><td>N</td><td>-1</td><td>-1</td><td>15/08/2022 12:25:40</td></tr><tr><td>06/02/2024</td><td>18:38:19</td><td>2022</td><td>2</td><td>ELEIÇÃO ORDINÁRIA</td><td>1</td><td>546</td><td>Eleições Gerais Estaduais 2022</td><td>02/10/2022</td><td>ESTADUAL</td><td>PB</td><td>PB</td><td>PARAÍBA</td><td>7</td><td>DEPUTADO ESTADUAL</td><td>150001718202</td><td>22567</td><td>BRUNA RAQUEL CELESTINO DA SILVA</td><td>BRUNA RAQUEL</td><td>#NULO#</td><td>11272223418</td><td>NÃO DIVULGÁVEL</td><td>12</td><td>APTO</td><td>2</td><td>DEFERIDO</td><td>PARTIDO ISOLADO</td><td>22</td><td>PL</td><td>PARTIDO LIBERAL</td><td>-1</td><td>#NULO#</td><td>#NULO#</td><td>#NULO#</td><td>150001685259</td><td>PARTIDO ISOLADO</td><td>PL</td><td>1</td><td>BRASILEIRA NATA</td><td>PB</td><td>-3</td><td>PATOS</td><td>22/12/1992</td><td>30</td><td>041702091236</td><td>4</td><td>FEMININO</td><td>6</td><td>ENSINO MÉDIO COMPLETO</td><td>1</td><td>SOLTEIRO(A)</td><td>03</td><td>PARDA</td><td>393</td><td>SECRETÁRIO,ESTENÓGRAFO,DATILÓGRAFO,RECEPCIONISTA,TELEFONISTA,TAQUÍGRAF</td><td>1270629.01</td><td>5</td><td>SUPLENTE</td><td>N</td><td>S</td><td>-1</td><td>06009133820226150000</td><td>2</td><td>DEFERIDO</td><td>2</td><td>DEFERIDO</td><td>SIM</td><td>Válido</td><td>2</td><td>Deferido</td><td>S</td><td>N</td><td>-1</td><td>23</td><td>15/08/2022 12:27:43</td></tr><tr><td>06/02/2024</td><td>18:38:19</td><td>2022</td><td>2</td><td>ELEIÇÃO ORDINÁRIA</td><td>1</td><td>546</td><td>Eleições Gerais Estaduais 2022</td><td>02/10/2022</td><td>ESTADUAL</td><td>ES</td><td>ES</td><td>ESPÍRITO SANTO</td><td>7</td><td>DEPUTADO ESTADUAL</td><td>80001653334</td><td>44027</td><td>PAULO HENRIQUE DE MELO</td><td>PAULINHO MECÂNICO</td><td>#NULO#</td><td>02753938792</td><td>NÃO DIVULGÁVEL</td><td>12</td><td>APTO</td><td>2</td><td>DEFERIDO</td><td>PARTIDO ISOLADO</td><td>44</td><td>UNIÃO</td><td>UNIÃO BRASIL</td><td>-1</td><td>#NULO#</td><td>#NULO#</td><td>#NULO#</td><td>80001681476</td><td>PARTIDO ISOLADO</td><td>UNIÃO</td><td>1</td><td>BRASILEIRA NATA</td><td>ES</td><td>-3</td><td>VITÓRIA</td><td>22/11/1971</td><td>51</td><td>013892081481</td><td>2</td><td>MASCULINO</td><td>3</td><td>ENSINO FUNDAMENTAL INCOMPLETO</td><td>3</td><td>CASADO(A)</td><td>02</td><td>PRETA</td><td>541</td><td>MECÂNICO DE MANUTENÇÃO</td><td>1270629.01</td><td>5</td><td>SUPLENTE</td><td>N</td><td>S</td><td>-1</td><td>06010683620226080000</td><td>2</td><td>DEFERIDO</td><td>2</td><td>DEFERIDO</td><td>SIM</td><td>Válido</td><td>2</td><td>Deferido</td><td>S</td><td>N</td><td>-1</td><td>18</td><td>12/08/2022 18:34:54</td></tr><tr><td>06/02/2024</td><td>18:38:19</td><td>2022</td><td>2</td><td>ELEIÇÃO ORDINÁRIA</td><td>1</td><td>546</td><td>Eleições Gerais Estaduais 2022</td><td>02/10/2022</td><td>ESTADUAL</td><td>PR</td><td>PR</td><td>PARANÁ</td><td>6</td><td>DEPUTADO FEDERAL</td><td>160001621838</td><td>4020</td><td>RICARDO DE CARVALHO MIRANDA</td><td>RICARDINHO MIRANDA</td><td>#NULO#</td><td>00897229908</td><td>NÃO DIVULGÁVEL</td><td>12</td><td>APTO</td><td>2</td><td>DEFERIDO</td><td>PARTIDO ISOLADO</td><td>40</td><td>PSB</td><td>PARTIDO SOCIALISTA BRASILEIRO</td><td>-1</td><td>#NULO#</td><td>#NULO#</td><td>#NULO#</td><td>160001682284</td><td>PARTIDO ISOLADO</td><td>PSB</td><td>1</td><td>BRASILEIRA NATA</td><td>PR</td><td>-3</td><td>CURITIBA</td><td>16/05/1984</td><td>38</td><td>081412830655</td><td>2</td><td>MASCULINO</td><td>8</td><td>SUPERIOR COMPLETO</td><td>3</td><td>CASADO(A)</td><td>01</td><td>BRANCA</td><td>232</td><td>POLICIAL CIVIL</td><td>3176572.53</td><td>5</td><td>SUPLENTE</td><td>N</td><td>S</td><td>-1</td><td>06009512320226160000</td><td>2</td><td>DEFERIDO</td><td>2</td><td>DEFERIDO</td><td>SIM</td><td>Válido</td><td>2</td><td>Deferido</td><td>S</td><td>N</td><td>-1</td><td>15</td><td>10/08/2022 19:25:46</td></tr><tr><td>06/02/2024</td><td>18:38:19</td><td>2022</td><td>2</td><td>ELEIÇÃO ORDINÁRIA</td><td>1</td><td>546</td><td>Eleições Gerais Estaduais 2022</td><td>02/10/2022</td><td>ESTADUAL</td><td>ES</td><td>ES</td><td>ESPÍRITO SANTO</td><td>6</td><td>DEPUTADO FEDERAL</td><td>80001602791</td><td>4555</td><td>ANDERSON MERLIN SALVADOR</td><td>ANDERSON SALVADOR</td><td>#NULO#</td><td>11880527723</td><td>NÃO DIVULGÁVEL</td><td>12</td><td>APTO</td><td>2</td><td>DEFERIDO</td><td>FEDERAÇÃO</td><td>45</td><td>PSDB</td><td>PARTIDO DA SOCIAL DEMOCRACIA BRASILEIRA</td><td>1</td><td>Federação PSDB Cidadania</td><td>PSDB/CIDADANIA</td><td>PSDB/CIDADANIA</td><td>80001681184</td><td>FEDERAÇÃO</td><td>PSDB/CIDADANIA</td><td>1</td><td>BRASILEIRA NATA</td><td>ES</td><td>-3</td><td>MONTANHA</td><td>01/10/1986</td><td>36</td><td>027597411457</td><td>2</td><td>MASCULINO</td><td>8</td><td>SUPERIOR COMPLETO</td><td>3</td><td>CASADO(A)</td><td>01</td><td>BRANCA</td><td>278</td><td>VEREADOR</td><td>3176572.53</td><td>4</td><td>NÃO ELEITO</td><td>N</td><td>S</td><td>-1</td><td>06005002020226080000</td><td>2</td><td>DEFERIDO</td><td>2</td><td>DEFERIDO</td><td>SIM</td><td>Válido</td><td>2</td><td>Deferido</td><td>S</td><td>N</td><td>-1</td><td>-1</td><td>03/08/2022 12:27:50</td></tr><tr><td>06/02/2024</td><td>18:38:19</td><td>2022</td><td>2</td><td>ELEIÇÃO ORDINÁRIA</td><td>1</td><td>546</td><td>Eleições Gerais Estaduais 2022</td><td>02/10/2022</td><td>ESTADUAL</td><td>SP</td><td>SP</td><td>SÃO PAULO</td><td>6</td><td>DEPUTADO FEDERAL</td><td>250001597693</td><td>3011</td><td>DANILO HENRIQUE PEREIRA DAVID</td><td>DANILO REZENDE</td><td>#NULO#</td><td>39683418805</td><td>NÃO DIVULGÁVEL</td><td>12</td><td>APTO</td><td>2</td><td>DEFERIDO</td><td>PARTIDO ISOLADO</td><td>30</td><td>NOVO</td><td>PARTIDO NOVO</td><td>-1</td><td>#NULO#</td><td>#NULO#</td><td>#NULO#</td><td>250001680945</td><td>PARTIDO ISOLADO</td><td>NOVO</td><td>1</td><td>BRASILEIRA NATA</td><td>SP</td><td>-3</td><td>FRANCA</td><td>07/05/1991</td><td>31</td><td>368248980141</td><td>2</td><td>MASCULINO</td><td>8</td><td>SUPERIOR COMPLETO</td><td>1</td><td>SOLTEIRO(A)</td><td>01</td><td>BRANCA</td><td>257</td><td>EMPRESÁRIO</td><td>3176572.53</td><td>5</td><td>SUPLENTE</td><td>N</td><td>S</td><td>-1</td><td>06003279220226260000</td><td>2</td><td>DEFERIDO</td><td>2</td><td>DEFERIDO</td><td>SIM</td><td>Válido</td><td>2</td><td>Deferido</td><td>S</td><td>N</td><td>-1</td><td>16</td><td>28/07/2022 17:05:52</td></tr></tbody></table></div>"
      ]
     },
     "metadata": {
      "application/vnd.databricks.v1+output": {
       "addedWidgets": {},
       "aggData": [],
       "aggError": "",
       "aggOverflow": false,
       "aggSchema": [],
       "aggSeriesLimitReached": false,
       "aggType": "",
       "arguments": {},
       "columnCustomDisplayInfos": {},
       "data": [
        [
         "06/02/2024",
         "18:38:19",
         "2022",
         "2",
         "ELEIÇÃO ORDINÁRIA",
         "1",
         "546",
         "Eleições Gerais Estaduais 2022",
         "02/10/2022",
         "ESTADUAL",
         "TO",
         "TO",
         "TOCANTINS",
         "7",
         "DEPUTADO ESTADUAL",
         "270001697206",
         "12121",
         "FERNANDO DOURADO DA SILVA",
         "FERNANDO DOURADO",
         "#NULO#",
         "02108422102",
         "NÃO DIVULGÁVEL",
         "12",
         "APTO",
         "2",
         "DEFERIDO",
         "PARTIDO ISOLADO",
         "12",
         "PDT",
         "PARTIDO DEMOCRÁTICO TRABALHISTA",
         "-1",
         "#NULO#",
         "#NULO#",
         "#NULO#",
         "270001684650",
         "PARTIDO ISOLADO",
         "PDT",
         "1",
         "BRASILEIRA NATA",
         "MA",
         "-3",
         "IMPERATRIZ",
         "21/03/1988",
         "34",
         "037379252798",
         "2",
         "MASCULINO",
         "6",
         "ENSINO MÉDIO COMPLETO",
         "1",
         "SOLTEIRO(A)",
         "03",
         "PARDA",
         "257",
         "EMPRESÁRIO",
         "1270629.01",
         "5",
         "SUPLENTE",
         "N",
         "S",
         "-1",
         "06007433320226270000",
         "2",
         "DEFERIDO",
         "2",
         "DEFERIDO",
         "SIM",
         "Válido",
         "2",
         "Deferido",
         "S",
         "N",
         "-1",
         "15",
         "14/08/2022 15:43:16"
        ],
        [
         "06/02/2024",
         "18:38:19",
         "2022",
         "2",
         "ELEIÇÃO ORDINÁRIA",
         "1",
         "546",
         "Eleições Gerais Estaduais 2022",
         "02/10/2022",
         "ESTADUAL",
         "DF",
         "DF",
         "DISTRITO FEDERAL",
         "9",
         "1º SUPLENTE",
         "70001651531",
         "456",
         "MARIA DE LOURDES WERNECK",
         "LOURDINHA WERNECK",
         "#NULO#",
         "01068199687",
         "NÃO DIVULGÁVEL",
         "3",
         "INAPTO",
         "6",
         "RENÚNCIA",
         "FEDERAÇÃO",
         "45",
         "PSDB",
         "PARTIDO DA SOCIAL DEMOCRACIA BRASILEIRA",
         "1",
         "Federação PSDB Cidadania",
         "PSDB/CIDADANIA",
         "PSDB/CIDADANIA",
         "70001683352",
         "FEDERAÇÃO",
         "PSDB/CIDADANIA",
         "1",
         "BRASILEIRA NATA",
         "MG",
         "-3",
         "DIVINÓPOLIS",
         "31/12/1941",
         "81",
         "000309382097",
         "4",
         "FEMININO",
         "8",
         "SUPERIOR COMPLETO",
         "1",
         "SOLTEIRO(A)",
         "01",
         "BRANCA",
         "257",
         "EMPRESÁRIO",
         "-1",
         "-1",
         "#NULO#",
         "N",
         "S",
         "-1",
         "06011032320226070000",
         "-1",
         "#NULO#",
         "-1",
         "#NULO#",
         "NÃO",
         "#NULO#",
         "-1",
         "#NULO#",
         "N",
         "S",
         "-1",
         "-1",
         "12/08/2022 17:07:39"
        ],
        [
         "06/02/2024",
         "18:38:19",
         "2022",
         "2",
         "ELEIÇÃO ORDINÁRIA",
         "1",
         "546",
         "Eleições Gerais Estaduais 2022",
         "02/10/2022",
         "ESTADUAL",
         "RO",
         "RO",
         "RONDÔNIA",
         "7",
         "DEPUTADO ESTADUAL",
         "220001609406",
         "11755",
         "ANA CRISTINA MONTEIRO ROCHA BARROS",
         "ANA BARROS",
         "#NULO#",
         "84894458268",
         "NÃO DIVULGÁVEL",
         "12",
         "APTO",
         "2",
         "DEFERIDO",
         "PARTIDO ISOLADO",
         "11",
         "PP",
         "PROGRESSISTAS",
         "-1",
         "#NULO#",
         "#NULO#",
         "#NULO#",
         "220001681436",
         "PARTIDO ISOLADO",
         "PP",
         "1",
         "BRASILEIRA NATA",
         "RO",
         "-3",
         "PORTO VELHO",
         "09/05/1983",
         "39",
         "013130132372",
         "4",
         "FEMININO",
         "3",
         "ENSINO FUNDAMENTAL INCOMPLETO",
         "3",
         "CASADO(A)",
         "01",
         "BRANCA",
         "999",
         "OUTROS",
         "1270629.01",
         "5",
         "SUPLENTE",
         "N",
         "S",
         "-1",
         "06004795420226220000",
         "2",
         "DEFERIDO",
         "2",
         "DEFERIDO",
         "SIM",
         "Válido",
         "2",
         "Deferido",
         "S",
         "N",
         "-1",
         "20",
         "08/08/2022 11:47:03"
        ],
        [
         "06/02/2024",
         "18:38:19",
         "2022",
         "2",
         "ELEIÇÃO ORDINÁRIA",
         "1",
         "546",
         "Eleições Gerais Estaduais 2022",
         "02/10/2022",
         "ESTADUAL",
         "SP",
         "SP",
         "SÃO PAULO",
         "6",
         "DEPUTADO FEDERAL",
         "250001620739",
         "5142",
         "FERNANDO CHIARELLI",
         "FERNANDO CHIARELLI",
         "#NULO#",
         "86385445887",
         "NÃO DIVULGÁVEL",
         "12",
         "APTO",
         "2",
         "DEFERIDO",
         "PARTIDO ISOLADO",
         "51",
         "PATRIOTA",
         "PATRIOTA",
         "-1",
         "#NULO#",
         "#NULO#",
         "#NULO#",
         "250001682231",
         "PARTIDO ISOLADO",
         "PATRIOTA",
         "1",
         "BRASILEIRA NATA",
         "SP",
         "-3",
         "RIBEIRÃO PRETO",
         "21/01/1957",
         "66",
         "172560920167",
         "2",
         "MASCULINO",
         "2",
         "LÊ E ESCREVE",
         "3",
         "CASADO(A)",
         "01",
         "BRANCA",
         "999",
         "OUTROS",
         "3176572.53",
         "4",
         "NÃO ELEITO",
         "N",
         "N",
         "-1",
         "06024990720226260000",
         "2",
         "DEFERIDO",
         "2",
         "DEFERIDO",
         "SIM",
         "Válido",
         "2",
         "Deferido",
         "S",
         "N",
         "-1",
         "-1",
         "10/08/2022 15:54:40"
        ],
        [
         "06/02/2024",
         "18:38:19",
         "2022",
         "2",
         "ELEIÇÃO ORDINÁRIA",
         "1",
         "546",
         "Eleições Gerais Estaduais 2022",
         "02/10/2022",
         "ESTADUAL",
         "PB",
         "PB",
         "PARAÍBA",
         "3",
         "GOVERNADOR",
         "150001718119",
         "22",
         "NILVAN FERREIRA DO NASCIMENTO",
         "NILVAN FERREIRA",
         "#NULO#",
         "91832608468",
         "NÃO DIVULGÁVEL",
         "12",
         "APTO",
         "2",
         "DEFERIDO",
         "PARTIDO ISOLADO",
         "22",
         "PL",
         "PARTIDO LIBERAL",
         "-1",
         "#NULO#",
         "#NULO#",
         "#NULO#",
         "150001685255",
         "PARTIDO ISOLADO",
         "PL",
         "1",
         "BRASILEIRA NATA",
         "PB",
         "-3",
         "CAJAZEIRAS",
         "10/05/1973",
         "49",
         "017279721201",
         "2",
         "MASCULINO",
         "7",
         "SUPERIOR INCOMPLETO",
         "3",
         "CASADO(A)",
         "02",
         "PRETA",
         "166",
         "LOCUTOR E COMENTARISTA DE RÁDIO E TELEVISÃO E RADIALISTA",
         "7115522.46",
         "4",
         "NÃO ELEITO",
         "N",
         "S",
         "-1",
         "06008622720226150000",
         "2",
         "DEFERIDO",
         "2",
         "DEFERIDO",
         "SIM",
         "Válido",
         "2",
         "Deferido",
         "S",
         "N",
         "-1",
         "-1",
         "15/08/2022 12:25:40"
        ],
        [
         "06/02/2024",
         "18:38:19",
         "2022",
         "2",
         "ELEIÇÃO ORDINÁRIA",
         "1",
         "546",
         "Eleições Gerais Estaduais 2022",
         "02/10/2022",
         "ESTADUAL",
         "PB",
         "PB",
         "PARAÍBA",
         "7",
         "DEPUTADO ESTADUAL",
         "150001718202",
         "22567",
         "BRUNA RAQUEL CELESTINO DA SILVA",
         "BRUNA RAQUEL",
         "#NULO#",
         "11272223418",
         "NÃO DIVULGÁVEL",
         "12",
         "APTO",
         "2",
         "DEFERIDO",
         "PARTIDO ISOLADO",
         "22",
         "PL",
         "PARTIDO LIBERAL",
         "-1",
         "#NULO#",
         "#NULO#",
         "#NULO#",
         "150001685259",
         "PARTIDO ISOLADO",
         "PL",
         "1",
         "BRASILEIRA NATA",
         "PB",
         "-3",
         "PATOS",
         "22/12/1992",
         "30",
         "041702091236",
         "4",
         "FEMININO",
         "6",
         "ENSINO MÉDIO COMPLETO",
         "1",
         "SOLTEIRO(A)",
         "03",
         "PARDA",
         "393",
         "SECRETÁRIO,ESTENÓGRAFO,DATILÓGRAFO,RECEPCIONISTA,TELEFONISTA,TAQUÍGRAF",
         "1270629.01",
         "5",
         "SUPLENTE",
         "N",
         "S",
         "-1",
         "06009133820226150000",
         "2",
         "DEFERIDO",
         "2",
         "DEFERIDO",
         "SIM",
         "Válido",
         "2",
         "Deferido",
         "S",
         "N",
         "-1",
         "23",
         "15/08/2022 12:27:43"
        ],
        [
         "06/02/2024",
         "18:38:19",
         "2022",
         "2",
         "ELEIÇÃO ORDINÁRIA",
         "1",
         "546",
         "Eleições Gerais Estaduais 2022",
         "02/10/2022",
         "ESTADUAL",
         "ES",
         "ES",
         "ESPÍRITO SANTO",
         "7",
         "DEPUTADO ESTADUAL",
         "80001653334",
         "44027",
         "PAULO HENRIQUE DE MELO",
         "PAULINHO MECÂNICO",
         "#NULO#",
         "02753938792",
         "NÃO DIVULGÁVEL",
         "12",
         "APTO",
         "2",
         "DEFERIDO",
         "PARTIDO ISOLADO",
         "44",
         "UNIÃO",
         "UNIÃO BRASIL",
         "-1",
         "#NULO#",
         "#NULO#",
         "#NULO#",
         "80001681476",
         "PARTIDO ISOLADO",
         "UNIÃO",
         "1",
         "BRASILEIRA NATA",
         "ES",
         "-3",
         "VITÓRIA",
         "22/11/1971",
         "51",
         "013892081481",
         "2",
         "MASCULINO",
         "3",
         "ENSINO FUNDAMENTAL INCOMPLETO",
         "3",
         "CASADO(A)",
         "02",
         "PRETA",
         "541",
         "MECÂNICO DE MANUTENÇÃO",
         "1270629.01",
         "5",
         "SUPLENTE",
         "N",
         "S",
         "-1",
         "06010683620226080000",
         "2",
         "DEFERIDO",
         "2",
         "DEFERIDO",
         "SIM",
         "Válido",
         "2",
         "Deferido",
         "S",
         "N",
         "-1",
         "18",
         "12/08/2022 18:34:54"
        ],
        [
         "06/02/2024",
         "18:38:19",
         "2022",
         "2",
         "ELEIÇÃO ORDINÁRIA",
         "1",
         "546",
         "Eleições Gerais Estaduais 2022",
         "02/10/2022",
         "ESTADUAL",
         "PR",
         "PR",
         "PARANÁ",
         "6",
         "DEPUTADO FEDERAL",
         "160001621838",
         "4020",
         "RICARDO DE CARVALHO MIRANDA",
         "RICARDINHO MIRANDA",
         "#NULO#",
         "00897229908",
         "NÃO DIVULGÁVEL",
         "12",
         "APTO",
         "2",
         "DEFERIDO",
         "PARTIDO ISOLADO",
         "40",
         "PSB",
         "PARTIDO SOCIALISTA BRASILEIRO",
         "-1",
         "#NULO#",
         "#NULO#",
         "#NULO#",
         "160001682284",
         "PARTIDO ISOLADO",
         "PSB",
         "1",
         "BRASILEIRA NATA",
         "PR",
         "-3",
         "CURITIBA",
         "16/05/1984",
         "38",
         "081412830655",
         "2",
         "MASCULINO",
         "8",
         "SUPERIOR COMPLETO",
         "3",
         "CASADO(A)",
         "01",
         "BRANCA",
         "232",
         "POLICIAL CIVIL",
         "3176572.53",
         "5",
         "SUPLENTE",
         "N",
         "S",
         "-1",
         "06009512320226160000",
         "2",
         "DEFERIDO",
         "2",
         "DEFERIDO",
         "SIM",
         "Válido",
         "2",
         "Deferido",
         "S",
         "N",
         "-1",
         "15",
         "10/08/2022 19:25:46"
        ],
        [
         "06/02/2024",
         "18:38:19",
         "2022",
         "2",
         "ELEIÇÃO ORDINÁRIA",
         "1",
         "546",
         "Eleições Gerais Estaduais 2022",
         "02/10/2022",
         "ESTADUAL",
         "ES",
         "ES",
         "ESPÍRITO SANTO",
         "6",
         "DEPUTADO FEDERAL",
         "80001602791",
         "4555",
         "ANDERSON MERLIN SALVADOR",
         "ANDERSON SALVADOR",
         "#NULO#",
         "11880527723",
         "NÃO DIVULGÁVEL",
         "12",
         "APTO",
         "2",
         "DEFERIDO",
         "FEDERAÇÃO",
         "45",
         "PSDB",
         "PARTIDO DA SOCIAL DEMOCRACIA BRASILEIRA",
         "1",
         "Federação PSDB Cidadania",
         "PSDB/CIDADANIA",
         "PSDB/CIDADANIA",
         "80001681184",
         "FEDERAÇÃO",
         "PSDB/CIDADANIA",
         "1",
         "BRASILEIRA NATA",
         "ES",
         "-3",
         "MONTANHA",
         "01/10/1986",
         "36",
         "027597411457",
         "2",
         "MASCULINO",
         "8",
         "SUPERIOR COMPLETO",
         "3",
         "CASADO(A)",
         "01",
         "BRANCA",
         "278",
         "VEREADOR",
         "3176572.53",
         "4",
         "NÃO ELEITO",
         "N",
         "S",
         "-1",
         "06005002020226080000",
         "2",
         "DEFERIDO",
         "2",
         "DEFERIDO",
         "SIM",
         "Válido",
         "2",
         "Deferido",
         "S",
         "N",
         "-1",
         "-1",
         "03/08/2022 12:27:50"
        ],
        [
         "06/02/2024",
         "18:38:19",
         "2022",
         "2",
         "ELEIÇÃO ORDINÁRIA",
         "1",
         "546",
         "Eleições Gerais Estaduais 2022",
         "02/10/2022",
         "ESTADUAL",
         "SP",
         "SP",
         "SÃO PAULO",
         "6",
         "DEPUTADO FEDERAL",
         "250001597693",
         "3011",
         "DANILO HENRIQUE PEREIRA DAVID",
         "DANILO REZENDE",
         "#NULO#",
         "39683418805",
         "NÃO DIVULGÁVEL",
         "12",
         "APTO",
         "2",
         "DEFERIDO",
         "PARTIDO ISOLADO",
         "30",
         "NOVO",
         "PARTIDO NOVO",
         "-1",
         "#NULO#",
         "#NULO#",
         "#NULO#",
         "250001680945",
         "PARTIDO ISOLADO",
         "NOVO",
         "1",
         "BRASILEIRA NATA",
         "SP",
         "-3",
         "FRANCA",
         "07/05/1991",
         "31",
         "368248980141",
         "2",
         "MASCULINO",
         "8",
         "SUPERIOR COMPLETO",
         "1",
         "SOLTEIRO(A)",
         "01",
         "BRANCA",
         "257",
         "EMPRESÁRIO",
         "3176572.53",
         "5",
         "SUPLENTE",
         "N",
         "S",
         "-1",
         "06003279220226260000",
         "2",
         "DEFERIDO",
         "2",
         "DEFERIDO",
         "SIM",
         "Válido",
         "2",
         "Deferido",
         "S",
         "N",
         "-1",
         "16",
         "28/07/2022 17:05:52"
        ]
       ],
       "datasetInfos": [],
       "dbfsResultPath": null,
       "isJsonSchema": true,
       "metadata": {},
       "overflow": false,
       "plotOptions": {
        "customPlotOptions": {},
        "displayType": "table",
        "pivotAggregation": null,
        "pivotColumns": null,
        "xColumns": null,
        "yColumns": null
       },
       "removedWidgets": [],
       "schema": [
        {
         "metadata": "{}",
         "name": "DT_GERACAO",
         "type": "\"string\""
        },
        {
         "metadata": "{}",
         "name": "HH_GERACAO",
         "type": "\"string\""
        },
        {
         "metadata": "{}",
         "name": "ANO_ELEICAO",
         "type": "\"string\""
        },
        {
         "metadata": "{}",
         "name": "CD_TIPO_ELEICAO",
         "type": "\"string\""
        },
        {
         "metadata": "{}",
         "name": "NM_TIPO_ELEICAO",
         "type": "\"string\""
        },
        {
         "metadata": "{}",
         "name": "NR_TURNO",
         "type": "\"string\""
        },
        {
         "metadata": "{}",
         "name": "CD_ELEICAO",
         "type": "\"string\""
        },
        {
         "metadata": "{}",
         "name": "DS_ELEICAO",
         "type": "\"string\""
        },
        {
         "metadata": "{}",
         "name": "DT_ELEICAO",
         "type": "\"string\""
        },
        {
         "metadata": "{}",
         "name": "TP_ABRANGENCIA",
         "type": "\"string\""
        },
        {
         "metadata": "{}",
         "name": "SG_UF",
         "type": "\"string\""
        },
        {
         "metadata": "{}",
         "name": "SG_UE",
         "type": "\"string\""
        },
        {
         "metadata": "{}",
         "name": "NM_UE",
         "type": "\"string\""
        },
        {
         "metadata": "{}",
         "name": "CD_CARGO",
         "type": "\"string\""
        },
        {
         "metadata": "{}",
         "name": "DS_CARGO",
         "type": "\"string\""
        },
        {
         "metadata": "{}",
         "name": "SQ_CANDIDATO",
         "type": "\"string\""
        },
        {
         "metadata": "{}",
         "name": "NR_CANDIDATO",
         "type": "\"string\""
        },
        {
         "metadata": "{}",
         "name": "NM_CANDIDATO",
         "type": "\"string\""
        },
        {
         "metadata": "{}",
         "name": "NM_URNA_CANDIDATO",
         "type": "\"string\""
        },
        {
         "metadata": "{}",
         "name": "NM_SOCIAL_CANDIDATO",
         "type": "\"string\""
        },
        {
         "metadata": "{}",
         "name": "NR_CPF_CANDIDATO",
         "type": "\"string\""
        },
        {
         "metadata": "{}",
         "name": "NM_EMAIL",
         "type": "\"string\""
        },
        {
         "metadata": "{}",
         "name": "CD_SITUACAO_CANDIDATURA",
         "type": "\"string\""
        },
        {
         "metadata": "{}",
         "name": "DS_SITUACAO_CANDIDATURA",
         "type": "\"string\""
        },
        {
         "metadata": "{}",
         "name": "CD_DETALHE_SITUACAO_CAND",
         "type": "\"string\""
        },
        {
         "metadata": "{}",
         "name": "DS_DETALHE_SITUACAO_CAND",
         "type": "\"string\""
        },
        {
         "metadata": "{}",
         "name": "TP_AGREMIACAO",
         "type": "\"string\""
        },
        {
         "metadata": "{}",
         "name": "NR_PARTIDO",
         "type": "\"string\""
        },
        {
         "metadata": "{}",
         "name": "SG_PARTIDO",
         "type": "\"string\""
        },
        {
         "metadata": "{}",
         "name": "NM_PARTIDO",
         "type": "\"string\""
        },
        {
         "metadata": "{}",
         "name": "NR_FEDERACAO",
         "type": "\"string\""
        },
        {
         "metadata": "{}",
         "name": "NM_FEDERACAO",
         "type": "\"string\""
        },
        {
         "metadata": "{}",
         "name": "SG_FEDERACAO",
         "type": "\"string\""
        },
        {
         "metadata": "{}",
         "name": "DS_COMPOSICAO_FEDERACAO",
         "type": "\"string\""
        },
        {
         "metadata": "{}",
         "name": "SQ_COLIGACAO",
         "type": "\"string\""
        },
        {
         "metadata": "{}",
         "name": "NM_COLIGACAO",
         "type": "\"string\""
        },
        {
         "metadata": "{}",
         "name": "DS_COMPOSICAO_COLIGACAO",
         "type": "\"string\""
        },
        {
         "metadata": "{}",
         "name": "CD_NACIONALIDADE",
         "type": "\"string\""
        },
        {
         "metadata": "{}",
         "name": "DS_NACIONALIDADE",
         "type": "\"string\""
        },
        {
         "metadata": "{}",
         "name": "SG_UF_NASCIMENTO",
         "type": "\"string\""
        },
        {
         "metadata": "{}",
         "name": "CD_MUNICIPIO_NASCIMENTO",
         "type": "\"string\""
        },
        {
         "metadata": "{}",
         "name": "NM_MUNICIPIO_NASCIMENTO",
         "type": "\"string\""
        },
        {
         "metadata": "{}",
         "name": "DT_NASCIMENTO",
         "type": "\"string\""
        },
        {
         "metadata": "{}",
         "name": "NR_IDADE_DATA_POSSE",
         "type": "\"string\""
        },
        {
         "metadata": "{}",
         "name": "NR_TITULO_ELEITORAL_CANDIDATO",
         "type": "\"string\""
        },
        {
         "metadata": "{}",
         "name": "CD_GENERO",
         "type": "\"string\""
        },
        {
         "metadata": "{}",
         "name": "DS_GENERO",
         "type": "\"string\""
        },
        {
         "metadata": "{}",
         "name": "CD_GRAU_INSTRUCAO",
         "type": "\"string\""
        },
        {
         "metadata": "{}",
         "name": "DS_GRAU_INSTRUCAO",
         "type": "\"string\""
        },
        {
         "metadata": "{}",
         "name": "CD_ESTADO_CIVIL",
         "type": "\"string\""
        },
        {
         "metadata": "{}",
         "name": "DS_ESTADO_CIVIL",
         "type": "\"string\""
        },
        {
         "metadata": "{}",
         "name": "CD_COR_RACA",
         "type": "\"string\""
        },
        {
         "metadata": "{}",
         "name": "DS_COR_RACA",
         "type": "\"string\""
        },
        {
         "metadata": "{}",
         "name": "CD_OCUPACAO",
         "type": "\"string\""
        },
        {
         "metadata": "{}",
         "name": "DS_OCUPACAO",
         "type": "\"string\""
        },
        {
         "metadata": "{}",
         "name": "VR_DESPESA_MAX_CAMPANHA",
         "type": "\"string\""
        },
        {
         "metadata": "{}",
         "name": "CD_SIT_TOT_TURNO",
         "type": "\"string\""
        },
        {
         "metadata": "{}",
         "name": "DS_SIT_TOT_TURNO",
         "type": "\"string\""
        },
        {
         "metadata": "{}",
         "name": "ST_REELEICAO",
         "type": "\"string\""
        },
        {
         "metadata": "{}",
         "name": "ST_DECLARAR_BENS",
         "type": "\"string\""
        },
        {
         "metadata": "{}",
         "name": "NR_PROTOCOLO_CANDIDATURA",
         "type": "\"string\""
        },
        {
         "metadata": "{}",
         "name": "NR_PROCESSO",
         "type": "\"string\""
        },
        {
         "metadata": "{}",
         "name": "CD_SITUACAO_CANDIDATO_PLEITO",
         "type": "\"string\""
        },
        {
         "metadata": "{}",
         "name": "DS_SITUACAO_CANDIDATO_PLEITO",
         "type": "\"string\""
        },
        {
         "metadata": "{}",
         "name": "CD_SITUACAO_CANDIDATO_URNA",
         "type": "\"string\""
        },
        {
         "metadata": "{}",
         "name": "DS_SITUACAO_CANDIDATO_URNA",
         "type": "\"string\""
        },
        {
         "metadata": "{}",
         "name": "ST_CANDIDATO_INSERIDO_URNA",
         "type": "\"string\""
        },
        {
         "metadata": "{}",
         "name": "NM_TIPO_DESTINACAO_VOTOS",
         "type": "\"string\""
        },
        {
         "metadata": "{}",
         "name": "CD_SITUACAO_CANDIDATO_TOT",
         "type": "\"string\""
        },
        {
         "metadata": "{}",
         "name": "DS_SITUACAO_CANDIDATO_TOT",
         "type": "\"string\""
        },
        {
         "metadata": "{}",
         "name": "ST_PREST_CONTAS",
         "type": "\"string\""
        },
        {
         "metadata": "{}",
         "name": "ST_SUBSTITUIDO",
         "type": "\"string\""
        },
        {
         "metadata": "{}",
         "name": "SQ_SUBSTITUIDO",
         "type": "\"string\""
        },
        {
         "metadata": "{}",
         "name": "SQ_ORDEM_SUPLENCIA",
         "type": "\"string\""
        },
        {
         "metadata": "{}",
         "name": "DT_ACEITE_CANDIDATURA",
         "type": "\"string\""
        }
       ],
       "type": "table"
      }
     },
     "output_type": "display_data"
    }
   ],
   "source": [
    "df = (spark.read\n",
    "      .format(\"csv\")\n",
    "      .options(**{\"sep\":\";\",\n",
    "                  \"header\": \"true\",\n",
    "                  \"encoding\": \"latin1\"})\n",
    "      .load(\"/mnt/data-election/raw-data/879640fa-29fa-4155-82b7-ec38b63b8377/consulta_cand_2022_BRASIL.csv\"))\n",
    "\n",
    "df.limit(10).display()"
   ]
  },
  {
   "cell_type": "code",
   "execution_count": 0,
   "metadata": {
    "application/vnd.databricks.v1+cell": {
     "cellMetadata": {
      "byteLimit": 2048000,
      "rowLimit": 10000
     },
     "inputWidgets": {},
     "nuid": "9d3735d9-3245-4035-9dba-e1d231c97f67",
     "showTitle": false,
     "title": ""
    }
   },
   "outputs": [
    {
     "output_type": "stream",
     "name": "stdout",
     "output_type": "stream",
     "text": [
      "root\n |-- DT_GERACAO: string (nullable = true)\n |-- HH_GERACAO: string (nullable = true)\n |-- ANO_ELEICAO: string (nullable = true)\n |-- CD_TIPO_ELEICAO: string (nullable = true)\n |-- NM_TIPO_ELEICAO: string (nullable = true)\n |-- NR_TURNO: string (nullable = true)\n |-- CD_ELEICAO: string (nullable = true)\n |-- DS_ELEICAO: string (nullable = true)\n |-- DT_ELEICAO: string (nullable = true)\n |-- TP_ABRANGENCIA: string (nullable = true)\n |-- SG_UF: string (nullable = true)\n |-- SG_UE: string (nullable = true)\n |-- NM_UE: string (nullable = true)\n |-- CD_CARGO: string (nullable = true)\n |-- DS_CARGO: string (nullable = true)\n |-- SQ_CANDIDATO: string (nullable = true)\n |-- NR_CANDIDATO: string (nullable = true)\n |-- NM_CANDIDATO: string (nullable = true)\n |-- NM_URNA_CANDIDATO: string (nullable = true)\n |-- NM_SOCIAL_CANDIDATO: string (nullable = true)\n |-- NR_CPF_CANDIDATO: string (nullable = true)\n |-- NM_EMAIL: string (nullable = true)\n |-- CD_SITUACAO_CANDIDATURA: string (nullable = true)\n |-- DS_SITUACAO_CANDIDATURA: string (nullable = true)\n |-- CD_DETALHE_SITUACAO_CAND: string (nullable = true)\n |-- DS_DETALHE_SITUACAO_CAND: string (nullable = true)\n |-- TP_AGREMIACAO: string (nullable = true)\n |-- NR_PARTIDO: string (nullable = true)\n |-- SG_PARTIDO: string (nullable = true)\n |-- NM_PARTIDO: string (nullable = true)\n |-- NR_FEDERACAO: string (nullable = true)\n |-- NM_FEDERACAO: string (nullable = true)\n |-- SG_FEDERACAO: string (nullable = true)\n |-- DS_COMPOSICAO_FEDERACAO: string (nullable = true)\n |-- SQ_COLIGACAO: string (nullable = true)\n |-- NM_COLIGACAO: string (nullable = true)\n |-- DS_COMPOSICAO_COLIGACAO: string (nullable = true)\n |-- CD_NACIONALIDADE: string (nullable = true)\n |-- DS_NACIONALIDADE: string (nullable = true)\n |-- SG_UF_NASCIMENTO: string (nullable = true)\n |-- CD_MUNICIPIO_NASCIMENTO: string (nullable = true)\n |-- NM_MUNICIPIO_NASCIMENTO: string (nullable = true)\n |-- DT_NASCIMENTO: string (nullable = true)\n |-- NR_IDADE_DATA_POSSE: string (nullable = true)\n |-- NR_TITULO_ELEITORAL_CANDIDATO: string (nullable = true)\n |-- CD_GENERO: string (nullable = true)\n |-- DS_GENERO: string (nullable = true)\n |-- CD_GRAU_INSTRUCAO: string (nullable = true)\n |-- DS_GRAU_INSTRUCAO: string (nullable = true)\n |-- CD_ESTADO_CIVIL: string (nullable = true)\n |-- DS_ESTADO_CIVIL: string (nullable = true)\n |-- CD_COR_RACA: string (nullable = true)\n |-- DS_COR_RACA: string (nullable = true)\n |-- CD_OCUPACAO: string (nullable = true)\n |-- DS_OCUPACAO: string (nullable = true)\n |-- VR_DESPESA_MAX_CAMPANHA: string (nullable = true)\n |-- CD_SIT_TOT_TURNO: string (nullable = true)\n |-- DS_SIT_TOT_TURNO: string (nullable = true)\n |-- ST_REELEICAO: string (nullable = true)\n |-- ST_DECLARAR_BENS: string (nullable = true)\n |-- NR_PROTOCOLO_CANDIDATURA: string (nullable = true)\n |-- NR_PROCESSO: string (nullable = true)\n |-- CD_SITUACAO_CANDIDATO_PLEITO: string (nullable = true)\n |-- DS_SITUACAO_CANDIDATO_PLEITO: string (nullable = true)\n |-- CD_SITUACAO_CANDIDATO_URNA: string (nullable = true)\n |-- DS_SITUACAO_CANDIDATO_URNA: string (nullable = true)\n |-- ST_CANDIDATO_INSERIDO_URNA: string (nullable = true)\n |-- NM_TIPO_DESTINACAO_VOTOS: string (nullable = true)\n |-- CD_SITUACAO_CANDIDATO_TOT: string (nullable = true)\n |-- DS_SITUACAO_CANDIDATO_TOT: string (nullable = true)\n |-- ST_PREST_CONTAS: string (nullable = true)\n |-- ST_SUBSTITUIDO: string (nullable = true)\n |-- SQ_SUBSTITUIDO: string (nullable = true)\n |-- SQ_ORDEM_SUPLENCIA: string (nullable = true)\n |-- DT_ACEITE_CANDIDATURA: string (nullable = true)\n\n"
     ]
    }
   ],
   "source": [
    "df.printSchema()"
   ]
  },
  {
   "cell_type": "code",
   "execution_count": 0,
   "metadata": {
    "application/vnd.databricks.v1+cell": {
     "cellMetadata": {
      "byteLimit": 2048000,
      "implicitDf": true,
      "rowLimit": 10000
     },
     "inputWidgets": {},
     "nuid": "d6d2b8cc-d25b-4549-a8e8-f522f81d82be",
     "showTitle": false,
     "title": ""
    }
   },
   "outputs": [
    {
     "output_type": "display_data",
     "data": {
      "text/html": [
       "<style scoped>\n",
       "  .table-result-container {\n",
       "    max-height: 300px;\n",
       "    overflow: auto;\n",
       "  }\n",
       "  table, th, td {\n",
       "    border: 1px solid black;\n",
       "    border-collapse: collapse;\n",
       "  }\n",
       "  th, td {\n",
       "    padding: 5px;\n",
       "  }\n",
       "  th {\n",
       "    text-align: left;\n",
       "  }\n",
       "</style><div class='table-result-container'><table class='table-result'><thead style='background-color: white'><tr></tr></thead><tbody></tbody></table></div>"
      ]
     },
     "metadata": {
      "application/vnd.databricks.v1+output": {
       "addedWidgets": {},
       "aggData": [],
       "aggError": "",
       "aggOverflow": false,
       "aggSchema": [],
       "aggSeriesLimitReached": false,
       "aggType": "",
       "arguments": {},
       "columnCustomDisplayInfos": {},
       "data": [],
       "datasetInfos": [],
       "dbfsResultPath": null,
       "isJsonSchema": true,
       "metadata": {},
       "overflow": false,
       "plotOptions": {
        "customPlotOptions": {},
        "displayType": "table",
        "pivotAggregation": null,
        "pivotColumns": null,
        "xColumns": null,
        "yColumns": null
       },
       "removedWidgets": [],
       "schema": [],
       "type": "table"
      }
     },
     "output_type": "display_data"
    }
   ],
   "source": [
    "%sql\n",
    "CREATE SCHEMA IF NOT EXISTS candidatos_2022_medallion;"
   ]
  },
  {
   "cell_type": "code",
   "execution_count": 0,
   "metadata": {
    "application/vnd.databricks.v1+cell": {
     "cellMetadata": {
      "byteLimit": 2048000,
      "implicitDf": true,
      "rowLimit": 10000
     },
     "inputWidgets": {},
     "nuid": "49cf426c-e475-48c6-8a0b-88ffe29863ac",
     "showTitle": false,
     "title": ""
    }
   },
   "outputs": [
    {
     "output_type": "display_data",
     "data": {
      "text/html": [
       "<style scoped>\n",
       "  .table-result-container {\n",
       "    max-height: 300px;\n",
       "    overflow: auto;\n",
       "  }\n",
       "  table, th, td {\n",
       "    border: 1px solid black;\n",
       "    border-collapse: collapse;\n",
       "  }\n",
       "  th, td {\n",
       "    padding: 5px;\n",
       "  }\n",
       "  th {\n",
       "    text-align: left;\n",
       "  }\n",
       "</style><div class='table-result-container'><table class='table-result'><thead style='background-color: white'><tr></tr></thead><tbody></tbody></table></div>"
      ]
     },
     "metadata": {
      "application/vnd.databricks.v1+output": {
       "addedWidgets": {},
       "aggData": [],
       "aggError": "",
       "aggOverflow": false,
       "aggSchema": [],
       "aggSeriesLimitReached": false,
       "aggType": "",
       "arguments": {},
       "columnCustomDisplayInfos": {},
       "data": [],
       "datasetInfos": [],
       "dbfsResultPath": null,
       "isJsonSchema": true,
       "metadata": {},
       "overflow": false,
       "plotOptions": {
        "customPlotOptions": {},
        "displayType": "table",
        "pivotAggregation": null,
        "pivotColumns": null,
        "xColumns": null,
        "yColumns": null
       },
       "removedWidgets": [],
       "schema": [],
       "type": "table"
      }
     },
     "output_type": "display_data"
    }
   ],
   "source": [
    "%sql\n",
    "\n",
    "CREATE TABLE IF NOT EXISTS candidatos_2022_medallion.candidatos_bronze_table (\n",
    "    DT_GERACAO DATE,\n",
    "    HH_GERACAO STRING,\n",
    "    ANO_ELEICAO INTEGER,\n",
    "    CD_TIPO_ELEICAO INTEGER,\n",
    "    NM_TIPO_ELEICAO STRING,\n",
    "    NR_TURNO INTEGER,\n",
    "    CD_ELEICAO INTEGER,\n",
    "    DS_ELEICAO STRING,\n",
    "    DT_ELEICAO DATE,\n",
    "    TP_ABRANGENCIA STRING,\n",
    "    SG_UF STRING,\n",
    "    SG_UE STRING,\n",
    "    NM_UE STRING,\n",
    "    CD_CARGO INTEGER,\n",
    "    DS_CARGO STRING,\n",
    "    SQ_CANDIDATO STRING,\n",
    "    NR_CANDIDATO STRING,\n",
    "    NM_CANDIDATO STRING,\n",
    "    NM_URNA_CANDIDATO STRING,\n",
    "    NM_SOCIAL_CANDIDATO STRING,\n",
    "    NR_CPF_CANDIDATO STRING,\n",
    "    NM_EMAIL STRING,\n",
    "    CD_SITUACAO_CANDIDATURA INTEGER,\n",
    "    DS_SITUACAO_CANDIDATURA STRING,\n",
    "    CD_DETALHE_SITUACAO_CAND INTEGER,\n",
    "    DS_DETALHE_SITUACAO_CAND STRING,\n",
    "    TP_AGREMIACAO STRING,\n",
    "    NR_PARTIDO INTEGER,\n",
    "    SG_PARTIDO STRING,\n",
    "    NM_PARTIDO STRING,\n",
    "    NR_FEDERACAO STRING,\n",
    "    NM_FEDERACAO STRING,\n",
    "    SG_FEDERACAO STRING,\n",
    "    DS_COMPOSICAO_FEDERACAO STRING,\n",
    "    SQ_COLIGACAO STRING,\n",
    "    NM_COLIGACAO STRING,\n",
    "    DS_COMPOSICAO_COLIGACAO STRING,\n",
    "    CD_NACIONALIDADE INTEGER,\n",
    "    DS_NACIONALIDADE STRING,\n",
    "    SG_UF_NASCIMENTO STRING,\n",
    "    CD_MUNICIPIO_NASCIMENTO INTEGER,\n",
    "    NM_MUNICIPIO_NASCIMENTO STRING,\n",
    "    DT_NASCIMENTO DATE,\n",
    "    NR_IDADE_DATA_POSSE INTEGER,\n",
    "    NR_TITULO_ELEITORAL_CANDIDATO STRING,\n",
    "    CD_GENERO INTEGER,\n",
    "    DS_GENERO STRING,\n",
    "    CD_GRAU_INSTRUCAO INTEGER,\n",
    "    DS_GRAU_INSTRUCAO STRING,\n",
    "    CD_ESTADO_CIVIL INTEGER,\n",
    "    DS_ESTADO_CIVIL STRING,\n",
    "    CD_COR_RACA STRING,\n",
    "    DS_COR_RACA STRING,\n",
    "    CD_OCUPACAO INTEGER,\n",
    "    DS_OCUPACAO STRING,\n",
    "    VR_DESPESA_MAX_CAMPANHA FLOAT,\n",
    "    CD_SIT_TOT_TURNO INTEGER,\n",
    "    DS_SIT_TOT_TURNO STRING,\n",
    "    ST_REELEICAO STRING,\n",
    "    ST_DECLARAR_BENS STRING,\n",
    "    NR_PROTOCOLO_CANDIDATURA STRING,\n",
    "    NR_PROCESSO STRING,\n",
    "    CD_SITUACAO_CANDIDATO_PLEITO INTEGER,\n",
    "    DS_SITUACAO_CANDIDATO_PLEITO STRING,\n",
    "    CD_SITUACAO_CANDIDATO_URNA INTEGER,\n",
    "    DS_SITUACAO_CANDIDATO_URNA STRING,\n",
    "    ST_CANDIDATO_INSERIDO_URNA STRING,\n",
    "    NM_TIPO_DESTINACAO_VOTOS STRING,\n",
    "    CD_SITUACAO_CANDIDATO_TOT INTEGER,\n",
    "    DS_SITUACAO_CANDIDATO_TOT STRING,\n",
    "    ST_PREST_CONTAS STRING,\n",
    "    ST_SUBSTITUIDO STRING,\n",
    "    SQ_SUBSTITUIDO STRING,\n",
    "    SQ_ORDEM_SUPLENCIA INTEGER,\n",
    "    DT_ACEITE_CANDIDATURA TIMESTAMP)\n",
    ";"
   ]
  },
  {
   "cell_type": "code",
   "execution_count": 0,
   "metadata": {
    "application/vnd.databricks.v1+cell": {
     "cellMetadata": {
      "byteLimit": 2048000,
      "rowLimit": 10000
     },
     "inputWidgets": {},
     "nuid": "7e8274f5-10b8-41d9-9b9c-8d07ec548d81",
     "showTitle": false,
     "title": ""
    }
   },
   "outputs": [],
   "source": [
    "# Correction date columns from the dataframe\n",
    "bronzecandidatos = df = df.withColumn(\"DT_GERACAO\", to_date(\"DT_GERACAO\", \"dd/MM/yyyy\"))\\\n",
    "        .withColumn(\"DT_NASCIMENTO\", to_date(\"DT_NASCIMENTO\", \"dd/MM/yyyy\"))\\\n",
    "        .withColumn(\"DT_ELEICAO\", to_date(\"DT_ELEICAO\", \"dd/MM/yyyy\"))\\\n",
    "        .withColumn(\"ANO_ELEICAO\", col(\"ANO_ELEICAO\").cast(\"integer\"))\\\n",
    "        .withColumn(\"DT_ACEITE_CANDIDATURA\", to_timestamp(\"DT_ACEITE_CANDIDATURA\", \"dd/MM/yyyy HH:mm:ss\"))\n"
   ]
  },
  {
   "cell_type": "code",
   "execution_count": 0,
   "metadata": {
    "application/vnd.databricks.v1+cell": {
     "cellMetadata": {
      "byteLimit": 2048000,
      "rowLimit": 10000
     },
     "inputWidgets": {},
     "nuid": "8157246a-061a-47d5-bd04-a6e9ca0f83cf",
     "showTitle": false,
     "title": ""
    }
   },
   "outputs": [],
   "source": [
    "#Insert the dataframe into the table created.\n",
    "bronzecandidatos.write.insertInto(\"candidatos_2022_medallion.candidatos_bronze_table\")"
   ]
  },
  {
   "cell_type": "code",
   "execution_count": 0,
   "metadata": {
    "application/vnd.databricks.v1+cell": {
     "cellMetadata": {
      "byteLimit": 2048000,
      "implicitDf": true,
      "rowLimit": 10000
     },
     "inputWidgets": {},
     "nuid": "82c91b56-5378-42cf-a89a-dbd1d6d7c711",
     "showTitle": false,
     "title": ""
    }
   },
   "outputs": [
    {
     "output_type": "display_data",
     "data": {
      "text/html": [
       "<style scoped>\n",
       "  .table-result-container {\n",
       "    max-height: 300px;\n",
       "    overflow: auto;\n",
       "  }\n",
       "  table, th, td {\n",
       "    border: 1px solid black;\n",
       "    border-collapse: collapse;\n",
       "  }\n",
       "  th, td {\n",
       "    padding: 5px;\n",
       "  }\n",
       "  th {\n",
       "    text-align: left;\n",
       "  }\n",
       "</style><div class='table-result-container'><table class='table-result'><thead style='background-color: white'><tr><th>NR_TURNO</th><th>count(NR_TURNO)</th></tr></thead><tbody><tr><td>1</td><td>29262</td></tr><tr><td>2</td><td>52</td></tr></tbody></table></div>"
      ]
     },
     "metadata": {
      "application/vnd.databricks.v1+output": {
       "addedWidgets": {},
       "aggData": [],
       "aggError": "",
       "aggOverflow": false,
       "aggSchema": [],
       "aggSeriesLimitReached": false,
       "aggType": "",
       "arguments": {},
       "columnCustomDisplayInfos": {},
       "data": [
        [
         1,
         29262
        ],
        [
         2,
         52
        ]
       ],
       "datasetInfos": [],
       "dbfsResultPath": null,
       "isJsonSchema": true,
       "metadata": {},
       "overflow": false,
       "plotOptions": {
        "customPlotOptions": {},
        "displayType": "table",
        "pivotAggregation": null,
        "pivotColumns": null,
        "xColumns": null,
        "yColumns": null
       },
       "removedWidgets": [],
       "schema": [
        {
         "metadata": "{}",
         "name": "NR_TURNO",
         "type": "\"integer\""
        },
        {
         "metadata": "{\"__autoGeneratedAlias\":\"true\"}",
         "name": "count(NR_TURNO)",
         "type": "\"long\""
        }
       ],
       "type": "table"
      }
     },
     "output_type": "display_data"
    }
   ],
   "source": [
    "%sql\n",
    "select \n",
    "NR_TURNO\n",
    ",count(NR_TURNO)\n",
    "from candidatos_2022_medallion.candidatos_bronze_table\n",
    "group by NR_TURNO;"
   ]
  },
  {
   "cell_type": "code",
   "execution_count": 0,
   "metadata": {
    "application/vnd.databricks.v1+cell": {
     "cellMetadata": {
      "byteLimit": 2048000,
      "implicitDf": true,
      "rowLimit": 10000
     },
     "inputWidgets": {},
     "nuid": "07c237ec-df6b-4ffd-8d1b-1b59fcfd6443",
     "showTitle": false,
     "title": ""
    }
   },
   "outputs": [
    {
     "output_type": "stream",
     "name": "stdout",
     "output_type": "stream",
     "text": [
      "+--------------+------------------+\n|     DS_GENERO|          avg(AGE)|\n+--------------+------------------+\n|NÃO DIVULGÁVEL|              null|\n|     MASCULINO|49.444102617582644|\n|      FEMININO|46.978249770244055|\n+--------------+------------------+\n\n"
     ]
    }
   ],
   "source": [
    "\n",
    "# Calculating the Average by Gender\n",
    "avg_age_by_gender = bronzecandidatos.withColumn(\"AGE\", year(\"DT_ELEICAO\") - year(\"DT_NASCIMENTO\"))\\\n",
    "    .select(\"NM_CANDIDATO\", \"DS_GENERO\", \"AGE\")\\\n",
    "    .distinct()\\\n",
    "    .groupBy(\"DS_GENERO\").avg(\"AGE\")\n",
    "\n",
    "# Show the result\n",
    "avg_age_by_gender.show()\n",
    "\n"
   ]
  },
  {
   "cell_type": "code",
   "execution_count": 0,
   "metadata": {
    "application/vnd.databricks.v1+cell": {
     "cellMetadata": {
      "byteLimit": 2048000,
      "rowLimit": 10000
     },
     "inputWidgets": {},
     "nuid": "0c4c43b5-a986-4e60-8aa5-11032628f819",
     "showTitle": false,
     "title": ""
    }
   },
   "outputs": [],
   "source": [
    "# Writing the transformed data into ADSL Gen2\n",
    "bronzecandidatos.write.mode(\"overwrite\")\\\n",
    "    .option(\"header\", \"true\")\\\n",
    "    .csv(\"/mnt/data-election/transformed-data/candidatos-2022\")"
   ]
  }
 ],
 "metadata": {
  "application/vnd.databricks.v1+notebook": {
   "dashboards": [],
   "language": "python",
   "notebookMetadata": {
    "mostRecentlyExecutedCommandWithImplicitDF": {
     "commandId": 1685803848404584,
     "dataframes": [
      "_sqldf"
     ]
    },
    "pythonIndentUnit": 4
   },
   "notebookName": "Data Election Transformation",
   "widgets": {}
  }
 },
 "nbformat": 4,
 "nbformat_minor": 0
}
